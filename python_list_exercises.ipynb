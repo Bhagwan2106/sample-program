{
 "cells": [
  {
   "cell_type": "code",
   "execution_count": 6,
   "id": "826bee66",
   "metadata": {},
   "outputs": [
    {
     "name": "stdout",
     "output_type": "stream",
     "text": [
      "Sum of all items in list: 21\n"
     ]
    }
   ],
   "source": [
    "# 1. WAP to sum of all the items in a list.\n",
    "l=[1,2,3,4,5,6]\n",
    "s = 0\n",
    "for i in l:\n",
    "    s = s+i\n",
    "print('Sum of all items in list:',s)\n",
    "    "
   ]
  },
  {
   "cell_type": "code",
   "execution_count": 4,
   "id": "6f2fced7",
   "metadata": {},
   "outputs": [
    {
     "name": "stdout",
     "output_type": "stream",
     "text": [
      "sum: 0\n"
     ]
    }
   ],
   "source": [
    "l=[1,5,-6]\n",
    "print('sum:',sum(l))"
   ]
  },
  {
   "cell_type": "code",
   "execution_count": 7,
   "id": "dcd09a81",
   "metadata": {},
   "outputs": [
    {
     "name": "stdout",
     "output_type": "stream",
     "text": [
      "Multiply of list numbers: 24\n"
     ]
    }
   ],
   "source": [
    "# 2. WAP to multiply of all the items in a list.\n",
    "l = [1,2,3,4]\n",
    "m = 1\n",
    "for i in l:\n",
    "    m = m*i\n",
    "print('Multiply of list numbers:',m)    "
   ]
  },
  {
   "cell_type": "code",
   "execution_count": 15,
   "id": "919e1c55",
   "metadata": {},
   "outputs": [
    {
     "name": "stdout",
     "output_type": "stream",
     "text": [
      "Largest number in a list is: 4\n"
     ]
    }
   ],
   "source": [
    "# 3. WAP to get largest number in a list.\n",
    "l = [1,2,3,4]\n",
    "n = len(l)\n",
    "m = l[0]\n",
    "for i in range(n):\n",
    "    if m<l[i]:\n",
    "        m = l[i]\n",
    "print('Largest number in a list is:',m)   "
   ]
  },
  {
   "cell_type": "code",
   "execution_count": 16,
   "id": "1893c4a7",
   "metadata": {},
   "outputs": [
    {
     "name": "stdout",
     "output_type": "stream",
     "text": [
      "Smallest number in a list is: 2\n"
     ]
    }
   ],
   "source": [
    "# 4. WAP to get smallest number in a list.\n",
    "l = [5,2,3,4,7,8,23]\n",
    "n = len(l)\n",
    "m = l[0]\n",
    "for i in range(n):\n",
    "    if l[i]<m:\n",
    "        m = l[i]\n",
    "print('Smallest number in a list is:',m)"
   ]
  },
  {
   "cell_type": "code",
   "execution_count": 17,
   "id": "f41edacd",
   "metadata": {},
   "outputs": [
    {
     "name": "stdout",
     "output_type": "stream",
     "text": [
      "largest number in a list is: 23\n"
     ]
    }
   ],
   "source": [
    "l = [5,2,3,4,7,8,23]\n",
    "n = len(l)\n",
    "m = l[0]\n",
    "for i in l:\n",
    "    if m<i:\n",
    "        m = i\n",
    "print('largest number in a list is:',m)"
   ]
  },
  {
   "cell_type": "code",
   "execution_count": 33,
   "id": "110b68e2",
   "metadata": {},
   "outputs": [
    {
     "name": "stdout",
     "output_type": "stream",
     "text": [
      "a c\n",
      "x z\n",
      "a a\n",
      "1 1\n",
      "b b\n",
      "c c\n",
      "4\n"
     ]
    }
   ],
   "source": [
    "# 5. WAP to count the number of strings where the string length is 2 or more and the first and last character are same from a given list of strings.\n",
    "# example list = ['abc','xyz','aba','1221']\n",
    "# Expected reslut is 2\n",
    "list = ['abc','xyz','aba','1221','bb','cbbgdc']\n",
    "c = 0\n",
    "for i in list:\n",
    "    if 2<=len(i):\n",
    "        #print(i[0],i[-1])\n",
    "        if i[0]==i[-1]:\n",
    "            c +=1\n",
    "print(c)"
   ]
  },
  {
   "cell_type": "code",
   "execution_count": 34,
   "id": "a2905976",
   "metadata": {},
   "outputs": [
    {
     "name": "stdout",
     "output_type": "stream",
     "text": [
      "4\n"
     ]
    }
   ],
   "source": [
    "# 5. WAP to count the number of strings where the string length is 2 or more and the first and last character are same from a given list of strings.\n",
    "# example list = ['abc','xyz','aba','1221']\n",
    "# Expected reslut is 2\n",
    "\n",
    "list = ['abc','xyz','aba','1221','bb','cbbgdc']\n",
    "c = 0\n",
    "for i in list:\n",
    "    if 2<=len(i) and i[0]==i[-1]:\n",
    "        c +=1\n",
    "print(c)"
   ]
  },
  {
   "cell_type": "code",
   "execution_count": 42,
   "id": "ab75cfd4",
   "metadata": {},
   "outputs": [
    {
     "name": "stdout",
     "output_type": "stream",
     "text": [
      "5 (2, 5)\n",
      "2 (1, 2)\n",
      "4 (4, 4)\n",
      "3 (2, 3)\n",
      "1 (2, 1)\n"
     ]
    },
    {
     "ename": "TypeError",
     "evalue": "'int' object is not callable",
     "output_type": "error",
     "traceback": [
      "\u001b[1;31m---------------------------------------------------------------------------\u001b[0m",
      "\u001b[1;31mTypeError\u001b[0m                                 Traceback (most recent call last)",
      "Input \u001b[1;32mIn [42]\u001b[0m, in \u001b[0;36m<cell line: 10>\u001b[1;34m()\u001b[0m\n\u001b[0;32m      8\u001b[0m     t \u001b[38;5;241m=\u001b[39m i\n\u001b[0;32m      9\u001b[0m     \u001b[38;5;28mprint\u001b[39m(k,t)\n\u001b[1;32m---> 10\u001b[0m \u001b[38;5;28mprint\u001b[39m(\u001b[38;5;28;43msorted\u001b[39;49m\u001b[43m(\u001b[49m\u001b[43mt\u001b[49m\u001b[43m,\u001b[49m\u001b[43mkey\u001b[49m\u001b[38;5;241;43m=\u001b[39;49m\u001b[43mk\u001b[49m\u001b[43m)\u001b[49m)\n",
      "\u001b[1;31mTypeError\u001b[0m: 'int' object is not callable"
     ]
    }
   ],
   "source": [
    "# 6. WAP to get a list, sorted in increasing order by the last element in each tuple from a given list of non-empty tuple\n",
    "# sample list = [(2,5),(1,2),(4,4),(2,3),(2,1)]\n",
    "# expected reslut :[(2,1),(1,2)(2,3),(4,4),(2,5)]\n",
    "\n",
    "list = [(2,5),(1,2),(4,4),(2,3),(2,1)]\n",
    "for i in list:\n",
    "    k= i[-1]\n",
    "    t = i\n",
    "    print(k,t)\n",
    "print(sorted(t,key=k))    "
   ]
  },
  {
   "cell_type": "code",
   "execution_count": 2,
   "id": "c2f0bb1f",
   "metadata": {},
   "outputs": [
    {
     "name": "stdout",
     "output_type": "stream",
     "text": [
      "[(2, 1), (1, 2), (2, 3), (4, 4), (2, 5)]\n"
     ]
    }
   ],
   "source": [
    "# 6. WAP to get a list, sorted in increasing order by the last element in each tuple from a given list of non-empty tuple\n",
    "# sample list = [(2,5),(1,2),(4,4),(2,3),(2,1)]\n",
    "# expected reslut :[(2,1),(1,2)(2,3),(4,4),(2,5)]\n",
    "\n",
    "def last(n):\n",
    "    return n[-1]\n",
    "def sorted_list_last(tuples):\n",
    "    return sorted(tuples, key=last)\n",
    "\n",
    "l = [(2,5),(1,2),(4,4),(2,3),(2,1)]\n",
    "print(sorted_list_last(l))\n"
   ]
  },
  {
   "cell_type": "code",
   "execution_count": 8,
   "id": "1d9b5801",
   "metadata": {},
   "outputs": [
    {
     "name": "stdout",
     "output_type": "stream",
     "text": [
      "{1, 2, 3, 4}\n"
     ]
    }
   ],
   "source": [
    "# 7. WAP to remove duplicates from a list\n",
    "l = [1,2,1,3,4,1,2,2]\n",
    "  \n",
    "print(set(l))\n",
    "        "
   ]
  },
  {
   "cell_type": "code",
   "execution_count": 10,
   "id": "c9523f70",
   "metadata": {},
   "outputs": [
    {
     "name": "stdout",
     "output_type": "stream",
     "text": [
      "[1, 2, 3, 4, 5, 6, 7]\n"
     ]
    }
   ],
   "source": [
    "# 7. WAP to remove duplicates from a list\n",
    "l = [1,2,1,3,4,1,2,2,5,6,4,6,7,5,7]\n",
    "l1 = []\n",
    "for i in l:\n",
    "    if i not in l1:\n",
    "        l1.append(i)\n",
    "print(l1)"
   ]
  },
  {
   "cell_type": "code",
   "execution_count": 39,
   "id": "117a03aa",
   "metadata": {},
   "outputs": [
    {
     "name": "stdout",
     "output_type": "stream",
     "text": [
      "[None, None, None, None, None, None, None]\n"
     ]
    }
   ],
   "source": [
    "# 7. WAP to remove duplicates from a list\n",
    "l = [1,2,1,3,4,1,2,2,5,6,4,6,7,5,7]\n",
    "l1=[]\n",
    "l1 = [l1.append(i) for i in l if i not in l1]\n",
    "print(l2)"
   ]
  },
  {
   "cell_type": "code",
   "execution_count": 35,
   "id": "c4ce0abf",
   "metadata": {},
   "outputs": [
    {
     "name": "stdout",
     "output_type": "stream",
     "text": [
      "list is empty\n"
     ]
    }
   ],
   "source": [
    "# 8. WAP to check list is empty or not\n",
    "l1 = []\n",
    "if len(l1) == 0:\n",
    "    print('list is empty')\n",
    "else:\n",
    "    print('list is not empty')\n"
   ]
  },
  {
   "cell_type": "code",
   "execution_count": 8,
   "id": "c7699d04",
   "metadata": {},
   "outputs": [
    {
     "name": "stdout",
     "output_type": "stream",
     "text": [
      "list is empty\n"
     ]
    }
   ],
   "source": [
    "# 8. WAP to check list is empty or not\n",
    "l1 = []\n",
    "if not l1:\n",
    "    print('list is empty')\n",
    "else:\n",
    "    print('list is not empty')\n"
   ]
  },
  {
   "cell_type": "code",
   "execution_count": 14,
   "id": "03113b0f",
   "metadata": {},
   "outputs": [
    {
     "name": "stdout",
     "output_type": "stream",
     "text": [
      "[1, 2, 3, 4]\n",
      "[1, 2, 3, 4]\n",
      "[5, 2, 3, 4]\n",
      "[1, 2, 3, 4]\n"
     ]
    }
   ],
   "source": [
    "#  9. Write a Python program to clone or copy a list.\n",
    "l = [1,2,3,4]\n",
    "l1 = list(l) # creating clone\n",
    "print(l)\n",
    "print(l1)\n",
    "l[0]=5\n",
    "print(l)\n",
    "print(l1)"
   ]
  },
  {
   "cell_type": "code",
   "execution_count": 16,
   "id": "c75047ed",
   "metadata": {},
   "outputs": [
    {
     "name": "stdout",
     "output_type": "stream",
     "text": [
      "[1, 2, 3, 4]\n",
      "[1, 2, 3, 4]\n",
      "[5, 2, 3, 4]\n",
      "[1, 2, 3, 4]\n"
     ]
    }
   ],
   "source": [
    "#  9. Write a Python program to clone or copy a list.\n",
    "l = [1,2,3,4]\n",
    "l1 =l.copy() # creating clone\n",
    "print(l)\n",
    "print(l1)\n",
    "l[0]=5\n",
    "print(l)\n",
    "print(l1)"
   ]
  },
  {
   "cell_type": "code",
   "execution_count": 17,
   "id": "43460d48",
   "metadata": {},
   "outputs": [
    {
     "name": "stdout",
     "output_type": "stream",
     "text": [
      "Enter a stringkomal\n",
      "['bhagwan', 'vihaana', 'supriya', 'vedantika']\n"
     ]
    }
   ],
   "source": [
    "# 10. Write a Python program to find the list of words that are longer than n from a given list of words\n",
    "l = ['abc', 'xyzq','bhagwan','vihaana','supriya','vedantika','komal','vihu']\n",
    "l1 = []\n",
    "n = input('Enter a string')\n",
    "for i in l:\n",
    "    if len(n)<len(i):\n",
    "        l1.append(i)\n",
    "print(l1)"
   ]
  },
  {
   "cell_type": "code",
   "execution_count": 9,
   "id": "6590d633",
   "metadata": {},
   "outputs": [
    {
     "name": "stdout",
     "output_type": "stream",
     "text": [
      "Enter a string: abcd\n",
      "['bhagwan', 'morning', 'scscoe']\n"
     ]
    }
   ],
   "source": [
    "# 10. Write a Python program to find the list of words that are longer than n from a given list of words\n",
    "l = ' Hi bhagwan good morning wel come to scscoe bhor'\n",
    "#l1 = l.split()\n",
    "l2 = []\n",
    "n = input('Enter a string: ')\n",
    "for i in l1:\n",
    "    if len(n)<len(i):\n",
    "        l2.append(i)\n",
    "print(l2)"
   ]
  },
  {
   "cell_type": "code",
   "execution_count": 8,
   "id": "0088b256",
   "metadata": {},
   "outputs": [
    {
     "name": "stdout",
     "output_type": "stream",
     "text": [
      "Enter a string: abcd\n",
      "['bhagwan', 'morning', 'scscoe']\n"
     ]
    }
   ],
   "source": [
    "# 10. Write a Python program to find the list of words that are longer than n from a given list of words\n",
    "# Using list Comprhension\n",
    "l = ' Hi bhagwan good morning wel come to scscoe bhor'\n",
    "l1 = l.split()\n",
    "n = input('Enter a string: ')\n",
    "l2=[i for i in l1 if len(n)<len(i)]\n",
    "print(l2)"
   ]
  },
  {
   "cell_type": "code",
   "execution_count": 8,
   "id": "c0bc7259",
   "metadata": {},
   "outputs": [],
   "source": [
    "# 11. Write a Python function that takes two lists and returns True if they have at least one common member.\n",
    "# without using function\n",
    "\n",
    "l = ['a','b','c','d']\n",
    "l1 = ['x','y','z','p']\n",
    "n = len(l)\n",
    "for x in l:\n",
    "    for y in l1:\n",
    "        if x == y:\n",
    "            print('True')"
   ]
  },
  {
   "cell_type": "code",
   "execution_count": 14,
   "id": "fe9adb5a",
   "metadata": {},
   "outputs": [
    {
     "name": "stdout",
     "output_type": "stream",
     "text": [
      "None\n"
     ]
    }
   ],
   "source": [
    "# 11. Write a Python function that takes two lists and returns True if they have at least one common member.\n",
    "# Using Function\n",
    "\n",
    "def list_fun(x,y):\n",
    "    result = False\n",
    "    for i in x:\n",
    "        for j in y:\n",
    "            if i == j:\n",
    "                result = True\n",
    "                return result\n",
    "print(list_fun(['a','b','c','d'],['x','y','z','p']))\n"
   ]
  },
  {
   "cell_type": "code",
   "execution_count": 44,
   "id": "37844feb",
   "metadata": {},
   "outputs": [
    {
     "name": "stdout",
     "output_type": "stream",
     "text": [
      "['Green', 'White', 'Black']\n"
     ]
    }
   ],
   "source": [
    "# 12. Write a Python program to print a specified list after removing the 0th, 4th and 5th elements.\n",
    "# Sample List : ['Red', 'Green', 'White', 'Black', 'Pink', 'Yellow']\n",
    "# Expected Output : ['Green', 'White', 'Black']\n",
    "\n",
    "'''\n",
    "sl = ['Red', 'Green', 'White', 'Black', 'Pink', 'Yellow']\n",
    "sl1\n",
    "for i in sl:\n",
    "    if i == sl[0]:\n",
    "        sl.pop(0)\n",
    "print(sl)\n",
    "'''\n",
    "color = ['Red', 'Green', 'White', 'Black', 'Pink', 'Yellow']\n",
    "color = [x for (i,x) in enumerate(color) if i not in (0,4,5)]\n",
    "print(color)        \n",
    "        \n",
    "    \n",
    "\n",
    "\n"
   ]
  },
  {
   "cell_type": "code",
   "execution_count": 50,
   "id": "80c2b035",
   "metadata": {},
   "outputs": [
    {
     "data": {
      "text/plain": [
       "[[['*', '*', '*', '*', '*', '*'],\n",
       "  ['*', '*', '*', '*', '*', '*'],\n",
       "  ['*', '*', '*', '*', '*', '*'],\n",
       "  ['*', '*', '*', '*', '*', '*']],\n",
       " [['*', '*', '*', '*', '*', '*'],\n",
       "  ['*', '*', '*', '*', '*', '*'],\n",
       "  ['*', '*', '*', '*', '*', '*'],\n",
       "  ['*', '*', '*', '*', '*', '*']],\n",
       " [['*', '*', '*', '*', '*', '*'],\n",
       "  ['*', '*', '*', '*', '*', '*'],\n",
       "  ['*', '*', '*', '*', '*', '*'],\n",
       "  ['*', '*', '*', '*', '*', '*']]]"
      ]
     },
     "execution_count": 50,
     "metadata": {},
     "output_type": "execute_result"
    }
   ],
   "source": [
    "# 13. Write a Python program to generate a 3*4*6 3D array whose each element is *\n",
    "[[['*' for col in range(6)]for col in range(4)]for row in range(3)]\n"
   ]
  },
  {
   "cell_type": "code",
   "execution_count": 51,
   "id": "ed7937d2",
   "metadata": {},
   "outputs": [
    {
     "name": "stdout",
     "output_type": "stream",
     "text": [
      "[[['*', '*', '*', '*', '*', '*'], ['*', '*', '*', '*', '*', '*'], ['*', '*', '*', '*', '*', '*'], ['*', '*', '*', '*', '*', '*']], [['*', '*', '*', '*', '*', '*'], ['*', '*', '*', '*', '*', '*'], ['*', '*', '*', '*', '*', '*'], ['*', '*', '*', '*', '*', '*']], [['*', '*', '*', '*', '*', '*'], ['*', '*', '*', '*', '*', '*'], ['*', '*', '*', '*', '*', '*'], ['*', '*', '*', '*', '*', '*']]]\n"
     ]
    }
   ],
   "source": [
    "# 13. Write a Python program to generate a 3*4*6 3D array whose each element is *\n",
    "l = []\n",
    "for i in range(3):\n",
    "    l.append([])\n",
    "    for j in range(4):\n",
    "        l[i].append([])\n",
    "        for row in range(6):\n",
    "            l[i][j].append('*')\n",
    "        \n",
    "print(l)\n"
   ]
  },
  {
   "cell_type": "code",
   "execution_count": 52,
   "id": "c2dc4065",
   "metadata": {},
   "outputs": [
    {
     "name": "stdout",
     "output_type": "stream",
     "text": [
      "[7, 25, 27]\n"
     ]
    }
   ],
   "source": [
    "# 14. Write a Python program to print the numbers of a specified list after removing even numbers.\n",
    "l = [7,8, 120, 25, 44, 20, 27]\n",
    "n = []\n",
    "for i in l:\n",
    "    if i % 2 != 0:\n",
    "        n.append(i)\n",
    "print(n)"
   ]
  },
  {
   "cell_type": "code",
   "execution_count": null,
   "id": "b0460d7d",
   "metadata": {},
   "outputs": [],
   "source": []
  },
  {
   "cell_type": "code",
   "execution_count": 4,
   "id": "95479a5e",
   "metadata": {},
   "outputs": [
    {
     "name": "stdout",
     "output_type": "stream",
     "text": [
      "[7, 25, 27]\n"
     ]
    }
   ],
   "source": [
    "# 14. Write a Python program to print the numbers of a specified list after removing even numbers.\n",
    "# Using list Comprhension\n",
    "\n",
    "num = [7,8, 120, 25, 44, 20, 27]\n",
    "num = print([x for x in num if x%2!=0])\n",
    "#print(num)\n"
   ]
  },
  {
   "cell_type": "code",
   "execution_count": 5,
   "id": "acfefe4a",
   "metadata": {},
   "outputs": [
    {
     "name": "stdout",
     "output_type": "stream",
     "text": [
      "['White', 'Red', 'Yellow', 'Green', 'Black', 'Pink']\n"
     ]
    }
   ],
   "source": [
    "# 15. Write a Python program to shuffle and print a specified list.\n",
    "from random import shuffle\n",
    "color = ['Red', 'Green', 'White', 'Black', 'Pink', 'Yellow']\n",
    "shuffle(color)\n",
    "print(color)"
   ]
  },
  {
   "cell_type": "code",
   "execution_count": 61,
   "id": "c8e12e08",
   "metadata": {},
   "outputs": [
    {
     "name": "stdout",
     "output_type": "stream",
     "text": [
      "[1, 4, 9, 16, 25]\n",
      "[676, 729, 784, 841, 900]\n"
     ]
    }
   ],
   "source": [
    "# 16. Write a Python program to generate and print a list of first and last 5 elements where the values\n",
    "# are square of numbers between 1 and 30 (both included).\n",
    "l = []\n",
    "for i in range(1,31):\n",
    "    l.append(i*i)\n",
    "#print(l)\n",
    "print(l[:5])\n",
    "print(l[-5:])"
   ]
  },
  {
   "cell_type": "code",
   "execution_count": 3,
   "id": "c71800e0",
   "metadata": {},
   "outputs": [
    {
     "name": "stdout",
     "output_type": "stream",
     "text": [
      "[1, 4, 9, 16, 25] [676, 729, 784, 841, 900]\n"
     ]
    }
   ],
   "source": [
    "# 16. Write a Python program to generate and print a list of first and last 5 elements where the values\n",
    "# are square of numbers between 1 and 30 (both included).\n",
    "\n",
    "# Using list Comprhension\n",
    "l = [i*i for i in range(1,31)]\n",
    "print(l[:5],l[-5:])"
   ]
  },
  {
   "cell_type": "code",
   "execution_count": 64,
   "id": "7e04ebcb",
   "metadata": {},
   "outputs": [
    {
     "name": "stdout",
     "output_type": "stream",
     "text": [
      "[36, 49, 64, 81, 100, 121, 144, 169, 196, 225, 256, 289, 324, 361, 400, 441, 484, 529, 576, 625, 676, 729, 784, 841, 900]\n"
     ]
    }
   ],
   "source": [
    "# 17. Write a Python program to generate and print a list except for the first 5 elements, \n",
    "# where the values are square of numbers between 1 and 30 (both included).\n",
    "l = []\n",
    "for i in range(1,31):\n",
    "    l.append(i*i)\n",
    "#print(l)\n",
    "print(l[5:])\n"
   ]
  },
  {
   "cell_type": "code",
   "execution_count": 2,
   "id": "a27d26be",
   "metadata": {},
   "outputs": [
    {
     "name": "stdout",
     "output_type": "stream",
     "text": [
      "[36, 49, 64, 81, 100, 121, 144, 169, 196, 225, 256, 289, 324, 361, 400, 441, 484, 529, 576, 625, 676, 729, 784, 841, 900]\n"
     ]
    }
   ],
   "source": [
    "# 17. Write a Python program to generate and print a list except for the first 5 elements, \n",
    "# where the values are square of numbers between 1 and 30 (both included).\n",
    "\n",
    "# Using list Comprhension \n",
    "\n",
    "l = [i*i for i in range(1,31)]\n",
    "print(l[5:])"
   ]
  },
  {
   "cell_type": "code",
   "execution_count": 74,
   "id": "d87f7c5f",
   "metadata": {},
   "outputs": [
    {
     "name": "stdout",
     "output_type": "stream",
     "text": [
      "aaa\n",
      "aab\n",
      "aba\n",
      "abb\n",
      "baa\n",
      "bab\n",
      "bba\n",
      "bbb\n"
     ]
    }
   ],
   "source": [
    "# 18. Write a Python program to generate all permutations of a list in Python.\n",
    "l = 'ab'\n",
    "n = len(l)\n",
    "for i in range(n):\n",
    "    for j in range(n):\n",
    "        for k in range(n):\n",
    "            print(l[i]+l[j]+l[k])"
   ]
  },
  {
   "cell_type": "code",
   "execution_count": 75,
   "id": "b1ded19e",
   "metadata": {},
   "outputs": [
    {
     "name": "stdout",
     "output_type": "stream",
     "text": [
      "[(1, 2, 3), (1, 3, 2), (2, 1, 3), (2, 3, 1), (3, 1, 2), (3, 2, 1)]\n"
     ]
    }
   ],
   "source": [
    "# 18. Write a Python program to generate all permutations of a list in Python.\n",
    "import itertools\n",
    "print(list(itertools.permutations([1,2,3])))"
   ]
  },
  {
   "cell_type": "code",
   "execution_count": 1,
   "id": "23ae37ee",
   "metadata": {},
   "outputs": [
    {
     "name": "stdout",
     "output_type": "stream",
     "text": [
      "Enter Number5\n",
      "Factorial of  5 is: 120\n"
     ]
    }
   ],
   "source": [
    "# WAP Factorial number using function\n",
    "def factorial1(n):\n",
    "    fact1 = 1\n",
    "    for i in range(1,n+1):\n",
    "        fact1 = fact1*i\n",
    "    return fact1\n",
    "num = int(input('Enter Number'))\n",
    "print('Factorial of ',num, 'is:',factorial1(num))"
   ]
  },
  {
   "cell_type": "code",
   "execution_count": 7,
   "id": "82291e24",
   "metadata": {},
   "outputs": [
    {
     "name": "stdout",
     "output_type": "stream",
     "text": [
      "Enter Number7\n",
      "0\n",
      "1\n",
      "1\n",
      "2\n",
      "3\n",
      "5\n",
      "8\n"
     ]
    }
   ],
   "source": [
    "# WAP to find Fibonanci series of given number\n",
    "no1 = int(input('Enter Number'))\n",
    "a = 0\n",
    "b = 1\n",
    "\n",
    "for i in range(no1):\n",
    "    print(a)\n",
    "    c = a + b\n",
    "    a = b\n",
    "    b = c\n",
    "    "
   ]
  },
  {
   "cell_type": "code",
   "execution_count": 11,
   "id": "131c41ab",
   "metadata": {},
   "outputs": [
    {
     "name": "stdout",
     "output_type": "stream",
     "text": [
      "Enter Number5\n",
      "    * \n",
      "   * * \n",
      "  * * * \n",
      " * * * * \n",
      "* * * * * \n"
     ]
    }
   ],
   "source": [
    "# WAP to print star (*) pyramid \n",
    "n = int(input('Enter Number')) \n",
    "\n",
    "for i in range(n):\n",
    "    for j in range(n-i-1):\n",
    "        print(end=' ') \n",
    "    for j in range(i+1):\n",
    "        print('*',end=' ')\n",
    "    print()    "
   ]
  },
  {
   "cell_type": "code",
   "execution_count": 12,
   "id": "e13a7a47",
   "metadata": {},
   "outputs": [
    {
     "name": "stdout",
     "output_type": "stream",
     "text": [
      "Enter Number5\n",
      "* * * * * \n",
      " * * * * \n",
      "  * * * \n",
      "   * * \n",
      "    * \n",
      "     "
     ]
    }
   ],
   "source": [
    "# WAP to print star (*) pyramid in reverse order\n",
    "n = int(input('Enter Number'))\n",
    "for i in range(n):\n",
    "    for j in range(n-i):\n",
    "        print('*',end=' ')\n",
    "    print()    \n",
    "    for j in range(n-j):\n",
    "        print(end=' ')"
   ]
  },
  {
   "cell_type": "code",
   "execution_count": 13,
   "id": "e47bdef7",
   "metadata": {},
   "outputs": [],
   "source": [
    "from sklearn.linear_model import LinearRegression"
   ]
  },
  {
   "cell_type": "code",
   "execution_count": 14,
   "id": "37a82ebc",
   "metadata": {},
   "outputs": [],
   "source": [
    "from sklearn.model_selection import train_test_split"
   ]
  },
  {
   "cell_type": "code",
   "execution_count": 15,
   "id": "d73b0c84",
   "metadata": {},
   "outputs": [],
   "source": [
    "from sklearn.preprocessing import LabelEncoder"
   ]
  },
  {
   "cell_type": "code",
   "execution_count": null,
   "id": "0f287ffa",
   "metadata": {},
   "outputs": [],
   "source": []
  }
 ],
 "metadata": {
  "kernelspec": {
   "display_name": "Python 3 (ipykernel)",
   "language": "python",
   "name": "python3"
  },
  "language_info": {
   "codemirror_mode": {
    "name": "ipython",
    "version": 3
   },
   "file_extension": ".py",
   "mimetype": "text/x-python",
   "name": "python",
   "nbconvert_exporter": "python",
   "pygments_lexer": "ipython3",
   "version": "3.9.12"
  }
 },
 "nbformat": 4,
 "nbformat_minor": 5
}
