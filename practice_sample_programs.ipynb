{
 "cells": [
  {
   "cell_type": "code",
   "execution_count": 6,
   "id": "5f03f954",
   "metadata": {},
   "outputs": [
    {
     "name": "stdout",
     "output_type": "stream",
     "text": [
      "enter number2\n",
      "Given number is not prime\n"
     ]
    }
   ],
   "source": [
    "# WAP To check given number is Prime or not\n",
    "n = int(input('enter number'))\n",
    "flag = False\n",
    "for i in range(1,n):\n",
    "    if n % i == 0:\n",
    "        flag = True\n",
    "        break\n",
    "    else:\n",
    "        flag = False\n",
    "if flag == True:\n",
    "    print('Given number is not prime')\n",
    "else:\n",
    "    print('Given number is prime ')"
   ]
  },
  {
   "cell_type": "code",
   "execution_count": 7,
   "id": "54a704b3",
   "metadata": {},
   "outputs": [
    {
     "name": "stdout",
     "output_type": "stream",
     "text": [
      "Prime Numbers: [2, 3, 5, 7, 11, 13, 17, 19]\n"
     ]
    }
   ],
   "source": [
    "# WAP to find prime numbers between 1 - 20\n",
    "flag = False\n",
    "l = []\n",
    "\n",
    "for i in range(2,21):\n",
    "    for j in range(2,i):\n",
    "        if i % j == 0:\n",
    "            flag = True\n",
    "            break\n",
    "        else:\n",
    "            flag = False\n",
    "    if flag == True:\n",
    "        pass\n",
    "    else:\n",
    "        l.append(i)\n",
    "print('Prime Numbers:',l)\n",
    "\n",
    "    "
   ]
  },
  {
   "cell_type": "markdown",
   "id": "f73dbdbc",
   "metadata": {},
   "source": [
    "**python**\n"
   ]
  },
  {
   "cell_type": "code",
   "execution_count": 12,
   "id": "2bcb82fc",
   "metadata": {},
   "outputs": [
    {
     "name": "stdout",
     "output_type": "stream",
     "text": [
      "    * \n",
      "   * * \n",
      "  * * * \n",
      " * * * * \n",
      "* * * * * \n"
     ]
    }
   ],
   "source": [
    "# WAP to print star (*) pyramid \n",
    "n = 5\n",
    "for i in range(n):\n",
    "    for j in range(n-i-1):\n",
    "        print(end=' ')\n",
    "    for j in range(i+1):\n",
    "        print('*',end=' ')\n",
    "    print()"
   ]
  },
  {
   "cell_type": "code",
   "execution_count": 13,
   "id": "52072bfb",
   "metadata": {},
   "outputs": [
    {
     "name": "stdout",
     "output_type": "stream",
     "text": [
      "* * * * * \n",
      " * * * * \n",
      "  * * * \n",
      "   * * \n",
      "    * \n",
      "     "
     ]
    }
   ],
   "source": [
    "# WAP to print reverse star (*) pyramid \n",
    "n = 5\n",
    "for i in range(n):\n",
    "    for j in range(n-i):\n",
    "        print('*',end=' ')\n",
    "    print()\n",
    "    for j in range(n-j):\n",
    "        print(end=' ')"
   ]
  },
  {
   "cell_type": "code",
   "execution_count": 17,
   "id": "c40c1681",
   "metadata": {},
   "outputs": [
    {
     "name": "stdout",
     "output_type": "stream",
     "text": [
      "1\n",
      "12\n",
      "123\n",
      "1234\n"
     ]
    }
   ],
   "source": [
    "'''\n",
    "WAP to print \n",
    "1\n",
    "12\n",
    "123\n",
    "1234\n",
    "''' \n",
    "for i in range(1,5):\n",
    "    for j in range(1,i+1):\n",
    "        print(j,end='')\n",
    "    print()"
   ]
  },
  {
   "cell_type": "code",
   "execution_count": 18,
   "id": "bf05350c",
   "metadata": {},
   "outputs": [
    {
     "name": "stdout",
     "output_type": "stream",
     "text": [
      "1\n",
      "22\n",
      "333\n",
      "4444\n"
     ]
    }
   ],
   "source": [
    "'''\n",
    "WAP to print \n",
    "1\n",
    "22\n",
    "333\n",
    "4444\n",
    "''' \n",
    "for i in range(1,5):\n",
    "    for j in range(1,i+1):\n",
    "        print(i,end='')\n",
    "    print()"
   ]
  },
  {
   "cell_type": "code",
   "execution_count": 21,
   "id": "20e3229d",
   "metadata": {},
   "outputs": [
    {
     "name": "stdout",
     "output_type": "stream",
     "text": [
      "A\n",
      "AB\n",
      "ABC\n",
      "ABCD\n"
     ]
    }
   ],
   "source": [
    "'''\n",
    "WAP to print \n",
    "A\n",
    "AB\n",
    "ABC\n",
    "ABCD\n",
    "''' \n",
    "for i in range(1,5):\n",
    "    for j in range(1,i+1):\n",
    "        print(chr(j+64),end='')\n",
    "    print()"
   ]
  },
  {
   "cell_type": "code",
   "execution_count": 22,
   "id": "31fb3b20",
   "metadata": {},
   "outputs": [
    {
     "name": "stdout",
     "output_type": "stream",
     "text": [
      "A\n",
      "BB\n",
      "CCC\n",
      "DDDD\n"
     ]
    }
   ],
   "source": [
    "'''\n",
    "WAP to print \n",
    "A\n",
    "BB\n",
    "CCC\n",
    "DDDD\n",
    "''' \n",
    "for i in range(1,5):\n",
    "    for j in range(1,i+1):\n",
    "        print(chr(i+64),end='')\n",
    "    print()"
   ]
  },
  {
   "cell_type": "code",
   "execution_count": 3,
   "id": "4492d663",
   "metadata": {},
   "outputs": [
    {
     "name": "stdout",
     "output_type": "stream",
     "text": [
      "Enter number5\n",
      "Factorial of 5 is 120\n"
     ]
    }
   ],
   "source": [
    "# Python 3 program to find\n",
    "# factorial of given number\n",
    "def factorial1(n):\n",
    "\tif n < 0:\n",
    "\t\treturn 0\n",
    "\telif n == 0 or n == 1:\n",
    "\t\treturn 1\n",
    "\telse:\n",
    "\t\tfact = 1\n",
    "\t\twhile(n > 1):\n",
    "\t\t\tfact *= n\n",
    "\t\t\tn -= 1\n",
    "\t\treturn fact\n",
    "\n",
    "# Driver Code\n",
    "num = int(input('Enter number'));\n",
    "print(\"Factorial of\",num,\"is\",\n",
    "factorial1(num))\n",
    "\n",
    "# This code is contributed by Dharmik Thakkar\n"
   ]
  },
  {
   "cell_type": "code",
   "execution_count": null,
   "id": "a4b01873",
   "metadata": {},
   "outputs": [],
   "source": []
  }
 ],
 "metadata": {
  "kernelspec": {
   "display_name": "Python 3 (ipykernel)",
   "language": "python",
   "name": "python3"
  },
  "language_info": {
   "codemirror_mode": {
    "name": "ipython",
    "version": 3
   },
   "file_extension": ".py",
   "mimetype": "text/x-python",
   "name": "python",
   "nbconvert_exporter": "python",
   "pygments_lexer": "ipython3",
   "version": "3.9.12"
  }
 },
 "nbformat": 4,
 "nbformat_minor": 5
}
